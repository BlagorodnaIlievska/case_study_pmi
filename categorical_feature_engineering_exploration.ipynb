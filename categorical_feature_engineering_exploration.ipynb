{
 "cells": [
  {
   "cell_type": "markdown",
   "metadata": {},
   "source": [
    "# Feature engineering \n",
    "Binning the categorical features"
   ]
  },
  {
   "cell_type": "markdown",
   "metadata": {},
   "source": [
    "Import the packages we need"
   ]
  },
  {
   "cell_type": "code",
   "execution_count": null,
   "metadata": {},
   "outputs": [],
   "source": [
    "import itertools\n",
    "from functions import *\n",
    "\n",
    "# Data Science\n",
    "import pandas as pd\n",
    "import numpy as np\n",
    "\n",
    "# Plotting\n",
    "import seaborn as sns\n",
    "import matplotlib.pyplot as plt"
   ]
  },
  {
   "cell_type": "markdown",
   "metadata": {},
   "source": [
    "# Load and transform the data\n",
    "First we load and show the data in pandas dataframe. Then we can start transforming the columns."
   ]
  },
  {
   "cell_type": "code",
   "execution_count": null,
   "metadata": {},
   "outputs": [],
   "source": [
    "df_train = pd.read_excel('D:/krk-datascientist-master/case2/use_case_data.xlsx')\n",
    "df_train.head(5)"
   ]
  },
  {
   "cell_type": "markdown",
   "metadata": {},
   "source": [
    "Transform some of the features"
   ]
  },
  {
   "cell_type": "code",
   "execution_count": null,
   "metadata": {},
   "outputs": [],
   "source": [
    "#Merge REGION and MARKET into one feature\n",
    "df_train['REGION_MARKET']=df_train['REGION'].astype(str)+'_'+df_train['MARKET'].astype(str)\n",
    "\n",
    "#Encode Date into Months\n",
    "df_train['LAUNCHMONTH']=df_train['NPLLAUNCHDATE'].astype(str).str[-2:]\n",
    "\n",
    "#Add Target variable\n",
    "df_train['Successful']=np.where(df_train['Market_Share']<0.007, 0, 1)\n",
    "\n",
    "#SPECIALFLAVOR - we fill the missing values with a 'no flavor' category under the assumption that the product did not have a flavor \n",
    "df_train['SPECIALFLAVOR']=df_train['SPECIALFLAVOR'].fillna('NOFLAVOR')\n",
    "\n",
    "#TIPCOLOR - we fill the missing values with a 'no color' category under the assumption that the product did not have a color\n",
    "df_train['TIPCOLOR']=df_train['TIPCOLOR'].fillna('NOCOLOR')"
   ]
  },
  {
   "cell_type": "markdown",
   "metadata": {},
   "source": [
    "# Drop the features we do not need\n",
    "Some of the features we do not need, since they does not have any meaning in the model."
   ]
  },
  {
   "cell_type": "code",
   "execution_count": null,
   "metadata": {},
   "outputs": [],
   "source": [
    "# remove columns with no information and missing values (more than 50%)\n",
    "\n",
    "# BRANDSUBFAMILYGROUPING beacuse is the same as BRANDSUBFAMILY\n",
    "# BRMID is an ID\n",
    "# ISREPLACEMENT has always the same value\n",
    "# ITEMSHAPE is either NaN or 1\n",
    "# LATESTPERIODINDEX has always the same value\n",
    "\n",
    "# REGION and MARKET are REGION_MARKET\n",
    "# RTYPE has many missing values\n",
    "\n",
    "# NPLLAUNCHDATE is represented using only months\n",
    "# NPLLAUNCHYEAR not is needed\n",
    "# Market_Share is the Successful variable\n",
    "\n",
    "df_train=df_train.drop(['BRANDSUBFAMILYGROUPING','BRMID','ISREPLACEMENT','ITEMSHAPE', 'LATESTPERIODINDEX', 'RTYPE',\n",
    "                         'REGION', 'MARKET','NPLLAUNCHDATE','NPLLAUNCHYEAR','Market_Share'],axis=1)\n",
    "\n",
    "# Show the new data frame\n",
    "df_train.head(5)"
   ]
  },
  {
   "cell_type": "markdown",
   "metadata": {},
   "source": [
    "# Binning on some of the categorical features"
   ]
  },
  {
   "cell_type": "code",
   "execution_count": null,
   "metadata": {},
   "outputs": [],
   "source": [
    "def column_frequency(df, column):\n",
    "    \"\"\"This is a function that counts the number of category repretitions in a given feature.\n",
    "        It returns a dataframe.\n",
    "        \n",
    "        :param dataframe df             : the dataframe for grouping\n",
    "        :param object column            : the column that we want to count values on\n",
    "    \"\"\"\n",
    "    \n",
    "    df = df.astype(str).groupby(column, as_index=False).size()\n",
    "    df = df.reset_index()\n",
    "    df = df.rename(columns={0: 'Counts'})\n",
    "    df = df.sort_values('Counts', ascending=False)\n",
    "    return df"
   ]
  },
  {
   "cell_type": "code",
   "execution_count": null,
   "metadata": {},
   "outputs": [],
   "source": [
    "def plot_merged_category(df, column):\n",
    "     \"\"\"This is a function that plots the number of category repretitions in a given feature.\n",
    "        It returns a dataframe.\n",
    "        \n",
    "        :param dataframe df             : the dataframe for grouping\n",
    "        :param object column            : the column that we want to plot\n",
    "    \"\"\"\n",
    "    df_merged=column_frequency(df,[column,'Successful'])\n",
    "    df_merged = df_merged.rename(columns={'Counts':'Number of category repetitions'})\n",
    "    plt.figure(1, figsize=(18, 10))\n",
    "    plt.ylabel('',fontsize=20)\n",
    "    plt.xlabel('',fontsize=20)\n",
    "    plt.xticks(rotation=90, fontsize=8)\n",
    "    plt.title(column+' '+'category frequencies after merging', fontsize=20)\n",
    "    sns.barplot(x=df_merged[column], y=df_merged['Number of category repetitions'], hue=df_merged['Successful'])"
   ]
  },
  {
   "cell_type": "code",
   "execution_count": null,
   "metadata": {},
   "outputs": [],
   "source": [
    "df_train.columns"
   ]
  },
  {
   "cell_type": "code",
   "execution_count": null,
   "metadata": {},
   "outputs": [],
   "source": [
    "#BRM\n",
    "brm=column_frequency(df_train,'BRM')\n",
    "\n",
    "#Each BRM category that has 1 or 2 appearances in the dataset is merged into new category\n",
    "brm['BRM_MERGED']=np.where(brm['Counts']<3,'BRM_1_2',brm['BRM'])\n",
    "#Each BRM category that has 3 or 4 appearances in the dataset is merged into new category\n",
    "brm['BRM_MERGED']=np.where((brm['Counts']>=3)&(brm['Counts']<5),'BRM_3_4',brm['BRM_MERGED'])\n",
    "#Each BRM category that has 5 or 6 appearances in the dataset is merged into new category\n",
    "brm['BRM_MERGED']=np.where((brm['Counts']>=5)&(brm['Counts']<7),'BRM_5_6',brm['BRM_MERGED'])\n",
    "#Each BRM category that has 7,8 or 9 appearances in the dataset is merged into new category\n",
    "brm['BRM_MERGED']=np.where((brm['Counts']>=7)&(brm['Counts']<10),'BRM_7_8_9',brm['BRM_MERGED'])\n",
    "#the rest goes to another category\n",
    "brm['BRM_MERGED']=np.where((brm['Counts']>=10),'BRM_10',brm['BRM_MERGED'])\n",
    "\n",
    "brm=brm[['BRM','BRM_MERGED']]\n",
    "df_train=pd.merge(df_train,brm,on='BRM')\n",
    "plot_merged_category(df_train,'BRM_MERGED')"
   ]
  },
  {
   "cell_type": "code",
   "execution_count": null,
   "metadata": {},
   "outputs": [],
   "source": [
    "#BRANDONMARKET\n",
    "brand_on_market=column_frequency(df_train, 'BRANDONMARKET')\n",
    "#Each BRANDONMARKET category that  has 1 appearance in the dataset is merged into new category\n",
    "brand_on_market['BRANDONMARKET_MERGED']=np.where(brand_on_market['Counts']==1,'BRANDONMARKET_1',brand_on_market['BRANDONMARKET'])\n",
    "#Each BRANDONMARKET category that  has 2 appearances in the dataset is merged into new category\n",
    "brand_on_market['BRANDONMARKET_MERGED']=np.where((brand_on_market['Counts']==2),'BRANDONMARKET_2'\n",
    "                                                 ,brand_on_market['BRANDONMARKET_MERGED'])\n",
    "#Each BRANDONMARKET category that  has 3 or 4 appearances in the dataset is merged into new category\n",
    "brand_on_market['BRANDONMARKET_MERGED']=np.where((brand_on_market['Counts']>=3)&(brand_on_market['Counts']<5),'BRANDONMARKET_3_4',\n",
    "                                       brand_on_market['BRANDONMARKET_MERGED'])\n",
    "#Each BRANDONMARKET category that  has 5 or 6 appearances in the dataset is merged into new category\n",
    "brand_on_market['BRANDONMARKET_MERGED']=np.where(((brand_on_market['Counts']>=5)&(brand_on_market['Counts']<7)),'BRANDONMARKET_5_6',\n",
    "                                                    brand_on_market['BRANDONMARKET_MERGED'])\n",
    "#Each BRANDONMARKET category that  has 7,8 or 9 appearances in the dataset is merged into new category\n",
    "brand_on_market['BRANDONMARKET_MERGED']=np.where(((brand_on_market['Counts']>=7)&(brand_on_market['Counts']<10)),'BRANDONMARKET_7_8_9',\n",
    "                                                    brand_on_market['BRANDONMARKET_MERGED'])\n",
    "#the rest goes to another category\n",
    "brand_on_market['BRANDONMARKET_MERGED']=np.where((brand_on_market['Counts']>=10),'BRANDONMARKET_10',brand_on_market['BRANDONMARKET_MERGED'])\n",
    "\n",
    "brand_on_market=brand_on_market[['BRANDONMARKET','BRANDONMARKET_MERGED']]\n",
    "df_train=pd.merge(df_train,brand_on_market,on='BRANDONMARKET')\n",
    "df_train[['BRANDONMARKET','BRANDONMARKET_MERGED']].head()\n",
    "df_train['BRANDONMARKET_MERGED'].value_counts()\n",
    "plot_merged_category(df_train, 'BRANDONMARKET_MERGED')"
   ]
  },
  {
   "cell_type": "code",
   "execution_count": null,
   "metadata": {},
   "outputs": [],
   "source": [
    "#MARKETEDBRAND\n",
    "\n",
    "marketed_brand=column_frequency(df_train, 'MARKETEDBRAND')\n",
    "#Each MARKETEDBRAND category that  has 1 appearance in the dataset is merged into new category\n",
    "marketed_brand['MARKETEDBRAND_MERGED']=np.where(marketed_brand['Counts']==1,'MARKETEDBRAND_1',marketed_brand['MARKETEDBRAND'])\n",
    "#Each MARKETEDBRAND category that  has 2 appearances in the dataset is merged into new category\n",
    "marketed_brand['MARKETEDBRAND_MERGED']=np.where((marketed_brand['Counts']==2),'MARKETEDBRAND_2',\n",
    "                                                marketed_brand['MARKETEDBRAND_MERGED'])\n",
    "#Each MARKETEDBRAND category that  has 3 or 4 appearances in the dataset is merged into new category\n",
    "marketed_brand['MARKETEDBRAND_MERGED']=np.where(((marketed_brand['Counts']>=3) & (marketed_brand['Counts']<5)),\n",
    "                                                'MARKETEDBRAND_3_4',marketed_brand['MARKETEDBRAND_MERGED'])\n",
    "#Each MARKETEDBRAND category that  has 5 or 6 appearances in the dataset is merged into new category\n",
    "marketed_brand['MARKETEDBRAND_MERGED']=np.where(((marketed_brand['Counts']>=5)&(marketed_brand['Counts']<7)),'MARKETEDBRAND_5_6',marketed_brand['MARKETEDBRAND_MERGED'])\n",
    "#Each MARKETEDBRAND category that  has 7,8 or 9 appearances in the dataset is merged into new category\n",
    "marketed_brand['MARKETEDBRAND_MERGED']=np.where(((marketed_brand['Counts']>=7)&(marketed_brand['Counts']<10)),'MARKETEDBRAND_7_8_9',marketed_brand['MARKETEDBRAND_MERGED'])\n",
    "\n",
    "#the rest goes to another category\n",
    "marketed_brand['MARKETEDBRAND_MERGED']=np.where((marketed_brand['Counts']>=10),'MARKETEDBRAND_10',\n",
    "                                                marketed_brand['MARKETEDBRAND_MERGED'])\n",
    "\n",
    "marketed_brand=marketed_brand[['MARKETEDBRAND','MARKETEDBRAND_MERGED']]\n",
    "df_train=pd.merge(df_train,marketed_brand,on='MARKETEDBRAND')\n",
    "df_train[['MARKETEDBRAND','MARKETEDBRAND_MERGED']].head()\n",
    "df_train['MARKETEDBRAND_MERGED'].value_counts()\n",
    "plot_merged_category(df_train,'MARKETEDBRAND_MERGED')"
   ]
  },
  {
   "cell_type": "code",
   "execution_count": null,
   "metadata": {},
   "outputs": [],
   "source": [
    "#BRANDDIFFERENTIATOR\n",
    "brand_dif=column_frequency(df_train,'BRANDDIFFERENTIATOR')\n",
    "#Each BRANDDIFFERENTIATOR category that  has 1 appearance in the dataset is merged into new category\n",
    "brand_dif['BRANDDIFFERENTIATOR_MERGED']=np.where(brand_dif['Counts']==1,'BRANDDIFFERENTIATOR_1',brand_dif['BRANDDIFFERENTIATOR'])\n",
    "#Each BRANDDIFFERENTIATOR category that  has 2 appearances in the dataset is merged into new category\n",
    "brand_dif['BRANDDIFFERENTIATOR_MERGED']=np.where((brand_dif['Counts']==2),'BRANDDIFFERENTIATOR_2',\n",
    "                                                brand_dif['BRANDDIFFERENTIATOR_MERGED'])\n",
    "#Each BRANDDIFFERENTIATOR category that  has 3 or 4 appearances in the dataset is merged into new category\n",
    "brand_dif['BRANDDIFFERENTIATOR_MERGED']=np.where(((brand_dif['Counts']>=3) & (brand_dif['Counts']<5)),\n",
    "                                                'BRANDDIFFERENTIATOR_3_4',brand_dif['BRANDDIFFERENTIATOR_MERGED'])\n",
    "#Each BRANDDIFFERENTIATOR category that  has 5 or 6 appearances in the dataset is merged into new category\n",
    "brand_dif['BRANDDIFFERENTIATOR_MERGED']=np.where(((brand_dif['Counts']>=5)& (brand_dif['Counts']<7)),'BRANDDIFFERENTIATOR_5_6',brand_dif['BRANDDIFFERENTIATOR_MERGED'])\n",
    "#Each BRANDDIFFERENTIATOR category that  has 7,8 or 9 appearances in the dataset is merged into new category\n",
    "brand_dif['BRANDDIFFERENTIATOR_MERGED']=np.where(((brand_dif['Counts']>=7) &(brand_dif['Counts']<10)),'BRANDDIFFERENTIATOR_7_8_9',brand_dif['BRANDDIFFERENTIATOR_MERGED'])\n",
    "\n",
    "#the rest goes to another category\n",
    "brand_dif['BRANDDIFFERENTIATOR_MERGED']=np.where((brand_dif['Counts']>=10),'BRANDDIFFERENTIATOR_10',\n",
    "                                                brand_dif['BRANDDIFFERENTIATOR_MERGED'])\n",
    "\n",
    "brand_dif=brand_dif[['BRANDDIFFERENTIATOR','BRANDDIFFERENTIATOR_MERGED']]\n",
    "df_train=pd.merge(df_train,brand_dif,on='BRANDDIFFERENTIATOR')\n",
    "df_train[['BRANDDIFFERENTIATOR','BRANDDIFFERENTIATOR_MERGED']].head()\n",
    "df_train['BRANDDIFFERENTIATOR_MERGED'].value_counts()\n",
    "plot_merged_category(df_train,'BRANDDIFFERENTIATOR_MERGED')"
   ]
  },
  {
   "cell_type": "markdown",
   "metadata": {},
   "source": [
    "BRANDDIFFERENTIATOR 245"
   ]
  },
  {
   "cell_type": "code",
   "execution_count": null,
   "metadata": {},
   "outputs": [],
   "source": [
    "#ITEMSCODE\n",
    "item_code = column_frequency(df_train, 'ITEMSCODE')\n",
    "#Each ITEMSCODE category that  has 1 appearance in the dataset is merged into new category\n",
    "item_code['ITEMSCODE_MERGED']=np.where(item_code['Counts']==1,'ITEMSCODE_1',item_code['ITEMSCODE'])\n",
    "##Each ITEMSCODE category that  has 2 or 3 appearances in the dataset is merged into new category\n",
    "item_code['ITEMSCODE_MERGED']=np.where(((item_code['Counts']>=2) & (item_code['Counts']<4)),'ITEMSCODE_2_3',item_code['ITEMSCODE_MERGED'])\n",
    "\n",
    "#the rest goes to another category\n",
    "item_code['ITEMSCODE_MERGED']=np.where((item_code['Counts']>=4),'ITEMSCODE_4',\n",
    "                                                item_code['ITEMSCODE_MERGED'])\n",
    "\n",
    "item_code['ITEMSCODE']=item_code['ITEMSCODE'].astype('int64')\n",
    "item_code=item_code[['ITEMSCODE','ITEMSCODE_MERGED']]\n",
    "df_train=pd.merge(df_train,item_code,on='ITEMSCODE')\n",
    "# Transform the ITEMSCODE_MERGED to categorical\n",
    "df_train['ITEMSCODE_MERGED']=df_train['ITEMSCODE_MERGED'].astype('category')\n",
    "\n",
    "df_train['ITEMSCODE_MERGED'].value_counts()\n",
    "plot_merged_category(df_train, 'ITEMSCODE_MERGED')"
   ]
  },
  {
   "cell_type": "code",
   "execution_count": null,
   "metadata": {},
   "outputs": [],
   "source": [
    "#BLDIMAGE\n",
    "image = column_frequency(df_train,'BLDIMAGE')\n",
    "#Each BLDIMAGE category that  has from 1 to 7 appearances in the dataset is merged into new category\n",
    "image['BLDIMAGE_MERGED']=np.where((image['Counts']>=1)&(image['Counts']<10),'BLDIMAGE_1_3_5_6_7',image['BLDIMAGE'])\n",
    "#the rest goes to another category\n",
    "image['BLDIMAGE_MERGED']=np.where((image['Counts']>=10),'BLDIMAGE_10',\n",
    "                                                image['BLDIMAGE_MERGED'])\n",
    "\n",
    "image=image[['BLDIMAGE','BLDIMAGE_MERGED']]\n",
    "df_train=pd.merge(df_train,image,on='BLDIMAGE')\n",
    "df_train['BLDIMAGE_MERGED'].value_counts()\n",
    "plot_merged_category(df_train, 'BLDIMAGE_MERGED')"
   ]
  },
  {
   "cell_type": "code",
   "execution_count": null,
   "metadata": {},
   "outputs": [],
   "source": [
    "#PRICECLASS\n",
    "priceclass=column_frequency(df_train, 'PRICECLASS')\n",
    "#Each PRICECLASS category that  has from 1 to 9 appearances in the dataset is merged into new category\n",
    "priceclass['PRICECLASS_MERGED']=np.where((priceclass['Counts']<10),'PRICECLASS_1_9',priceclass['PRICECLASS'])\n",
    "#the rest goes to another category\n",
    "priceclass['PRICECLASS_MERGED']=np.where((priceclass['Counts']>=10),'PRICECLASS_10',\n",
    "                                                priceclass['PRICECLASS_MERGED'])\n",
    "\n",
    "priceclass=priceclass[['PRICECLASS','PRICECLASS_MERGED']]\n",
    "df_train=pd.merge(df_train,priceclass,on='PRICECLASS')\n",
    "df_train['PRICECLASS_MERGED'].value_counts()\n",
    "plot_merged_category(df_train,'PRICECLASS_MERGED')"
   ]
  },
  {
   "cell_type": "code",
   "execution_count": null,
   "metadata": {},
   "outputs": [],
   "source": [
    "#LOCALCLASS\n",
    "localclass = column_frequency(df_train, 'LOCALCLASS')\n",
    "#Each LOCALCLASS category that  has from 1 to 9 appearances in the dataset is merged into new category\n",
    "localclass['LOCALCLASS_MERGED']=np.where((localclass['Counts']<10),'LOCALCLASS_1_9',localclass['LOCALCLASS'])\n",
    "#the rest goes to another category\n",
    "localclass['LOCALCLASS_MERGED']=np.where((localclass['Counts']>=10),'LOCALCLASS_10',\n",
    "                                                localclass['LOCALCLASS_MERGED'])\n",
    "\n",
    "\n",
    "localclass=localclass[['LOCALCLASS','LOCALCLASS_MERGED']]\n",
    "df_train=pd.merge(df_train,localclass,on='LOCALCLASS')\n",
    "df_train['LOCALCLASS_MERGED'].value_counts()\n",
    "plot_merged_category(df_train, 'LOCALCLASS_MERGED')"
   ]
  },
  {
   "cell_type": "code",
   "execution_count": null,
   "metadata": {},
   "outputs": [],
   "source": [
    "#PCKT\n",
    "pckt = column_frequency(df_train, 'PCKT')\n",
    "#Each PCKT category that  has from 1 to 3 appearances in the dataset is merged into new category\n",
    "pckt['PCKT_MERGED']=np.where((pckt['Counts']<4),'PCKT_1_2_3',pckt['PCKT'])\n",
    "#Each PCKT category that  has from 4 to 9 appearances in the dataset is merged into new category\n",
    "pckt['PCKT_MERGED']=np.where(((pckt['Counts']>=4) & (pckt['Counts']<10)),\n",
    "                                           'PCKT_4_9',pckt['PCKT_MERGED'])\n",
    "#the rest goes to another category\n",
    "pckt['PCKT_MERGED']=np.where((pckt['Counts']>=10),'PCKT_10',\n",
    "                                                pckt['PCKT_MERGED'])\n",
    "pckt=pckt[['PCKT','PCKT_MERGED']]\n",
    "df_train=pd.merge(df_train,pckt,on='PCKT')\n",
    "df_train['PCKT_MERGED'].value_counts()\n",
    "plot_merged_category(df_train, 'PCKT_MERGED')"
   ]
  },
  {
   "cell_type": "markdown",
   "metadata": {},
   "source": [
    "PCKT24"
   ]
  },
  {
   "cell_type": "code",
   "execution_count": null,
   "metadata": {},
   "outputs": [],
   "source": [
    "#SPECIALFLAVOR\n",
    "df_train['SPECIALFLAVOR']=df_train['SPECIALFLAVOR'].fillna('NOSPECIALFLAVOR')\n",
    "specialflavor = column_frequency(df_train, 'SPECIALFLAVOR')\n",
    "#Each SPECIALFLAVOR category that  has from 1 to 10 appearances in the dataset is merged into new category\n",
    "specialflavor['SPECIALFLAVOR_MERGED']=np.where((specialflavor['Counts']<10),'SPECIALFLAVOR_1_10',specialflavor['SPECIALFLAVOR'])\n",
    "#the rest goes to another category\n",
    "specialflavor['SPECIALFLAVOR_MERGED']=np.where((specialflavor['Counts']>=10),'SPECIALFLAVOR_10',\n",
    "                                                specialflavor['SPECIALFLAVOR_MERGED'])\n",
    "\n",
    "specialflavor=specialflavor[['SPECIALFLAVOR','SPECIALFLAVOR_MERGED']]\n",
    "df_train=pd.merge(df_train,specialflavor,on='SPECIALFLAVOR')\n",
    "df_train['SPECIALFLAVOR_MERGED'].value_counts()\n",
    "plot_merged_category(df_train,'SPECIALFLAVOR_MERGED' )"
   ]
  },
  {
   "cell_type": "code",
   "execution_count": null,
   "metadata": {},
   "outputs": [],
   "source": [
    "#THICATEGORY\n",
    "thi_category = column_frequency(df_train,'THICATEGORY')\n",
    "\n",
    "#Each THICATEGORY category that  has from 1 to 100 appearances in the dataset is merged into new category\n",
    "thi_category['THICATEGORY_MERGED']=np.where((thi_category['Counts']<100),'THICATEGORY_1_99',thi_category['THICATEGORY'])\n",
    "#the rest goes to another category\n",
    "thi_category['THICATEGORY_MERGED']=np.where((thi_category['Counts']>=100),'THICATEGORY_100',\n",
    "                                                thi_category['THICATEGORY_MERGED'])\n",
    "\n",
    "thi_category=thi_category[['THICATEGORY','THICATEGORY_MERGED']]\n",
    "df_train=pd.merge(df_train,thi_category,on='THICATEGORY')\n",
    "df_train['THICATEGORY_MERGED'].value_counts()\n",
    "plot_merged_category(df_train,'THICATEGORY_MERGED' )"
   ]
  },
  {
   "cell_type": "code",
   "execution_count": null,
   "metadata": {},
   "outputs": [],
   "source": [
    "#BRANDFAMILY\n",
    "brand_family = column_frequency(df_train, 'BRANDFAMILY')\n",
    "#Each BRANDFAMILY category that  has  1 appearance in the dataset is merged into new category\n",
    "brand_family['BRANDFAMILY_MERGED']=np.where((brand_family['Counts']==1),'BRANDFAMILY_1',brand_family['BRANDFAMILY'])\n",
    "#Each BRANDFAMILY category that  has  2 or 3 appearances in the dataset is merged into new category\n",
    "brand_family['BRANDFAMILY_MERGED']=np.where(((brand_family['Counts']>=2) & (brand_family['Counts']<4)),\n",
    "                                          'BRANDFAMILY_2_3',brand_family['BRANDFAMILY_MERGED'])\n",
    "#Each BRANDFAMILY category that  has  4,5 or 6 appearances in the dataset is merged into new category\n",
    "brand_family['BRANDFAMILY_MERGED']=np.where(((brand_family['Counts']>=4) & (brand_family['Counts']<7)),\n",
    "                                           'BRANDFAMILY_4_5_6',brand_family['BRANDFAMILY_MERGED'])\n",
    "#Each BRANDFAMILY category that  has  7,8 or 9 appearances in the dataset is merged into new category\n",
    "brand_family['BRANDFAMILY_MERGED']=np.where((brand_family['Counts']>=7)&(brand_family['Counts']<10),'BRANDFAMILY_7_8_9',brand_family['BRANDFAMILY_MERGED'])\n",
    "#the rest goes to another category\n",
    "brand_family['BRANDFAMILY_MERGED']=np.where((brand_family['Counts']>=10),'BRANDFAMILY_10',\n",
    "                                                brand_family['BRANDFAMILY_MERGED'])\n",
    "\n",
    "brand_family=brand_family[['BRANDFAMILY','BRANDFAMILY_MERGED']]\n",
    "df_train=pd.merge(df_train,brand_family,on='BRANDFAMILY')\n",
    "df_train['BRANDFAMILY_MERGED'].value_counts()\n",
    "plot_merged_category(df_train, 'BRANDFAMILY_MERGED')"
   ]
  },
  {
   "cell_type": "code",
   "execution_count": null,
   "metadata": {},
   "outputs": [],
   "source": [
    "#BRANDSUBFAMILY\n",
    "brand_subfamily = column_frequency(df_train, 'BRANDSUBFAMILY')\n",
    "#Each BRANDSUBFAMILY category that  has  1 appearance in the dataset is merged into new category\n",
    "brand_subfamily['BRANDSUBFAMILY_MERGED']=np.where((brand_subfamily['Counts']==1),'BRANDSUBFAMILY_1',brand_subfamily['BRANDSUBFAMILY'])\n",
    "#Each BRANDSUBFAMILY category that  has  2 or 3 appearances in the dataset is merged into new category\n",
    "brand_subfamily['BRANDSUBFAMILY_MERGED']=np.where(((brand_subfamily['Counts']>=2) & (brand_subfamily['Counts']<4)),\n",
    "                               'BRANDSUBFAMILY_2_3',brand_subfamily['BRANDSUBFAMILY_MERGED'])\n",
    "#Each BRANDSUBFAMILY category that  has  4,5 or 6 appearances in the dataset is merged into new category\n",
    "brand_subfamily['BRANDSUBFAMILY_MERGED']=np.where(((brand_subfamily['Counts']>=4) & (brand_subfamily['Counts']<7)),\n",
    "                                         'BRANDSUBFAMILY_4_5_6',brand_subfamily['BRANDSUBFAMILY_MERGED'])\n",
    "#Each BRANDSUBFAMILY category that  has  7,8 or 9 appearances in the dataset is merged into new category\n",
    "brand_subfamily['BRANDSUBFAMILY_MERGED']=np.where((brand_subfamily['Counts']>=7)&(brand_subfamily['Counts']<10),'BRANDSUBFAMILY_7_8_9',\n",
    "                                               brand_subfamily['BRANDSUBFAMILY_MERGED'])\n",
    "#the rest goes to another category\n",
    "brand_subfamily['BRANDSUBFAMILY_MERGED']=np.where((brand_subfamily['Counts']>=10),'BRANDSUBFAMILY_10',\n",
    "                                                brand_subfamily['BRANDSUBFAMILY_MERGED'])\n",
    "\n",
    "brand_subfamily=brand_subfamily[['BRANDSUBFAMILY','BRANDSUBFAMILY_MERGED']]\n",
    "df_train=pd.merge(df_train,brand_subfamily,on='BRANDSUBFAMILY')\n",
    "df_train['BRANDSUBFAMILY_MERGED'].value_counts()\n",
    "plot_merged_category(df_train, 'BRANDSUBFAMILY_MERGED')"
   ]
  },
  {
   "cell_type": "markdown",
   "metadata": {},
   "source": [
    "BRANDSUMFAMILY141 BRANDSUBFAMILY52 BRANDSUBFAMILY122"
   ]
  },
  {
   "cell_type": "code",
   "execution_count": null,
   "metadata": {},
   "outputs": [],
   "source": [
    "#BRANDSUBFAMILYGROUP\n",
    "brand_subfamily_gr = column_frequency(df_train, 'BRANDSUBFAMILYGROUP')\n",
    "#Each BRANDSUBFAMILYGROUP category that  has  1 appearance in the dataset is merged into new category\n",
    "brand_subfamily_gr['BRANDSUBFAMILYGROUP_MERGED']=np.where((brand_subfamily_gr['Counts']==1),'BRANDSUBFAMILYGROUP_1',\n",
    "                                                     brand_subfamily_gr['BRANDSUBFAMILYGROUP'])\n",
    "#Each BRANDSUBFAMILYGROUP category that  has  2 or 3 appearances in the dataset is merged into new category\n",
    "brand_subfamily_gr['BRANDSUBFAMILYGROUP_MERGED']=np.where(((brand_subfamily_gr['Counts']>=2) & (brand_subfamily_gr['Counts']<4)),\n",
    "                                           'BRANDSUBFAMILYGROUP_2_3',brand_subfamily_gr['BRANDSUBFAMILYGROUP_MERGED'])\n",
    "#Each BRANDSUBFAMILYGROUP category that  has  4,5 or 6 appearances in the dataset is merged into new category\n",
    "brand_subfamily_gr['BRANDSUBFAMILYGROUP_MERGED']=np.where(((brand_subfamily_gr['Counts']>=4) & (brand_subfamily_gr['Counts']<7)),\n",
    "                                           'BRANDSUBFAMILYGROUP_4_5_6',brand_subfamily_gr['BRANDSUBFAMILYGROUP_MERGED'])\n",
    "#Each BRANDSUBFAMILYGROUP category that  has  7,8 or 9 appearances in the dataset is merged into new category\n",
    "brand_subfamily_gr['BRANDSUBFAMILYGROUP_MERGED']=np.where((brand_subfamily_gr['Counts']>=7)&(brand_subfamily_gr['Counts']<10),'BRANDSUBFAMILYGROUP_7_8_9',\n",
    "                                               brand_subfamily_gr['BRANDSUBFAMILYGROUP_MERGED'])\n",
    "#the rest goes to another category\n",
    "brand_subfamily_gr['BRANDSUBFAMILYGROUP_MERGED']=np.where((brand_subfamily_gr['Counts']>=10),'BRANDSUBFAMILYGROUP_10',\n",
    "                                                brand_subfamily_gr['BRANDSUBFAMILYGROUP_MERGED'])\n",
    "\n",
    "brand_subfamily_gr=brand_subfamily_gr[['BRANDSUBFAMILYGROUP','BRANDSUBFAMILYGROUP_MERGED']]\n",
    "df_train=pd.merge(df_train,brand_subfamily_gr,on='BRANDSUBFAMILYGROUP')\n",
    "df_train['BRANDSUBFAMILYGROUP_MERGED'].value_counts()\n",
    "plot_merged_category(df_train, 'BRANDSUBFAMILYGROUP_MERGED')"
   ]
  },
  {
   "cell_type": "code",
   "execution_count": null,
   "metadata": {},
   "outputs": [],
   "source": [
    "#BRANDSUBFAMILYLINE\n",
    "brand_subfamily_line = column_frequency(df_train,'BRANDSUBFAMILYLINE')\n",
    "#Each BRANDSUBFAMILYLINE category that  has  1 appearance in the dataset is merged into new category\n",
    "brand_subfamily_line['BRANDSUBFAMILYLINE_MERGED']=np.where((brand_subfamily_line['Counts']==1),'BRANDSUBFAMILYLINE_1',\n",
    "                                                     brand_subfamily_line['BRANDSUBFAMILYLINE'])\n",
    "#Each BRANDSUBFAMILYLINE category that  has  2 or 3 appearances in the dataset is merged into new category\n",
    "brand_subfamily_line['BRANDSUBFAMILYLINE_MERGED']=np.where(((brand_subfamily_line['Counts']>=2) & (brand_subfamily_line['Counts']<4)),\n",
    "                                           'BRANDSUBFAMILYLINE_2_3',brand_subfamily_line['BRANDSUBFAMILYLINE_MERGED'])\n",
    "#Each BRANDSUBFAMILYLINE category that  has  4,5 or 6 appearances in the dataset is merged into new category\n",
    "brand_subfamily_line['BRANDSUBFAMILYLINE_MERGED']=np.where(((brand_subfamily_line['Counts']>=4) & (brand_subfamily_line['Counts']<7)),\n",
    "                                           'BRANDSUBFAMILYLINE_4_5_6',brand_subfamily_line['BRANDSUBFAMILYLINE_MERGED'])\n",
    "#Each BRANDSUBFAMILYLINE category that  has  7,8 or 9 appearances in the dataset is merged into new category\n",
    "brand_subfamily_line['BRANDSUBFAMILYLINE_MERGED']=np.where((brand_subfamily_line['Counts']>=7)&(brand_subfamily_line['Counts']<10),'BRANDSUBFAMILYLINE_7_8_9',\n",
    "                                               brand_subfamily_line['BRANDSUBFAMILYLINE_MERGED'])\n",
    "#the rest goes to another category\n",
    "brand_subfamily_line['BRANDSUBFAMILYLINE_MERGED']=np.where((brand_subfamily_line['Counts']>=10),'BRANDSUBFAMILYLINE_10',\n",
    "                                                brand_subfamily_line['BRANDSUBFAMILYLINE_MERGED'])\n",
    "\n",
    "brand_subfamily_line=brand_subfamily_line[['BRANDSUBFAMILYLINE','BRANDSUBFAMILYLINE_MERGED']]\n",
    "df_train=pd.merge(df_train,brand_subfamily_line,on='BRANDSUBFAMILYLINE')\n",
    "df_train['BRANDSUBFAMILYLINE_MERGED'].value_counts()\n",
    "plot_merged_category(df_train,'BRANDSUBFAMILYLINE_MERGED' )"
   ]
  },
  {
   "cell_type": "markdown",
   "metadata": {},
   "source": [
    "Drop the columns for which there is a binned column"
   ]
  },
  {
   "cell_type": "code",
   "execution_count": null,
   "metadata": {},
   "outputs": [],
   "source": [
    "df_train.shape"
   ]
  },
  {
   "cell_type": "code",
   "execution_count": null,
   "metadata": {},
   "outputs": [],
   "source": [
    "#REGION_MARKET\n",
    "#BRM\n",
    "#BRANDONMARKET\n",
    "#MARKETEDBRAND\n",
    "#BRANDDIFFERENTIATOR\n",
    "#ITEMSCODE\n",
    "#BLDIMAGE\n",
    "#PRICECLASS\n",
    "#LOCALCLASS\n",
    "#PCKT\n",
    "#SPECIALFLAVOR\n",
    "#THICATEGORY\n",
    "#BRANDFAMILY\n",
    "#BRANDSUBFAMILY\n",
    "#BRANDSUBFAMILYGROUP\n",
    "#BRANDSUBFAMILYLINE\n",
    "\n",
    "df_train=df_train.drop(['BRM','BRANDONMARKET','MARKETEDBRAND','BRANDDIFFERENTIATOR','ITEMSCODE', 'BLDIMAGE', \n",
    "                        'PRICECLASS', 'LOCALCLASS', 'PCKT','SPECIALFLAVOR','THICATEGORY','BRANDFAMILY','BRANDSUBFAMILY',\n",
    "                       'BRANDSUBFAMILYGROUP', 'BRANDSUBFAMILYLINE'],axis=1)\n",
    "\n",
    "df_train.shape"
   ]
  },
  {
   "cell_type": "markdown",
   "metadata": {},
   "source": [
    "Save the dataset into a new file"
   ]
  },
  {
   "cell_type": "code",
   "execution_count": null,
   "metadata": {},
   "outputs": [],
   "source": [
    "writer = pd.ExcelWriter('D:/krk-datascientist-master/case2/after_feature_engineering.xlsx')\n",
    "df_train.to_excel(writer,'Sheet1')\n",
    "writer.save()"
   ]
  },
  {
   "cell_type": "code",
   "execution_count": null,
   "metadata": {},
   "outputs": [],
   "source": []
  }
 ],
 "metadata": {
  "kernelspec": {
   "display_name": "Python 3",
   "language": "python",
   "name": "python3"
  },
  "language_info": {
   "codemirror_mode": {
    "name": "ipython",
    "version": 3
   },
   "file_extension": ".py",
   "mimetype": "text/x-python",
   "name": "python",
   "nbconvert_exporter": "python",
   "pygments_lexer": "ipython3",
   "version": "3.7.0"
  }
 },
 "nbformat": 4,
 "nbformat_minor": 2
}
